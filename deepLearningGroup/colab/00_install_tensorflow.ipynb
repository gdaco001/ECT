{
  "nbformat": 4,
  "nbformat_minor": 0,
  "metadata": {
    "colab": {
      "name": "00-install-tensorflow.ipynb",
      "version": "0.3.2",
      "provenance": [],
      "include_colab_link": true
    },
    "kernelspec": {
      "name": "python3",
      "display_name": "Python 3"
    }
  },
  "cells": [
    {
      "cell_type": "markdown",
      "metadata": {
        "id": "view-in-github",
        "colab_type": "text"
      },
      "source": [
        "<a href=\"https://colab.research.google.com/github/heltonmaia/ECT/blob/master/00_install_tensorflow.ipynb\" target=\"_parent\"><img src=\"https://colab.research.google.com/assets/colab-badge.svg\" alt=\"Open In Colab\"/></a>"
      ]
    },
    {
      "metadata": {
        "id": "ysQv8J0zED5w",
        "colab_type": "text"
      },
      "cell_type": "markdown",
      "source": [
        "**Instalando Tensorflow: **\n",
        "https://www.tensorflow.org/install/pip\n",
        "\n",
        "Available packages\n",
        "\n",
        "    tensorflow —Current release for CPU-only (recommended for beginners)\n",
        "    tensorflow-gpu —Current release with GPU support (Ubuntu and Windows)\n",
        "    tf-nightly —Nightly build for CPU-only (unstable)\n",
        "    tf-nightly-gpu —Nightly build with GPU support (unstable, Ubuntu and Windows)\n"
      ]
    },
    {
      "metadata": {
        "id": "bA2jh-jIUHYi",
        "colab_type": "text"
      },
      "cell_type": "markdown",
      "source": [
        "**Documentação sobre o pip: **\n",
        "https://pip.pypa.io/en/stable/reference/pip_show/"
      ]
    },
    {
      "metadata": {
        "id": "N177VlRhkZYW",
        "colab_type": "code",
        "colab": {}
      },
      "cell_type": "code",
      "source": [
        "#!pip list | grep tf\n",
        "#!pip show tensorflow\n",
        "#!python3 --version\n",
        "#!pip3 --version\n",
        "#!pip list\n"
      ],
      "execution_count": 0,
      "outputs": []
    },
    {
      "metadata": {
        "id": "8iJkYuRMECr0",
        "colab_type": "code",
        "colab": {}
      },
      "cell_type": "code",
      "source": [
        "#!pip install tensorflow-gpu\n",
        "#!pip install tensorflow\n",
        "#!pip install --upgrade tensorflow\n",
        "#!pip uninstall tf-nightly-gpu\n",
        "\n",
        "\n",
        "###---------------tensorflow\n",
        "# Current release for CPU-only\n",
        "#!pip install tensorflow\n",
        "\n",
        "# Nightly build for CPU-only (unstable)\n",
        "#!pip uninstall tf-nightly\n",
        "\n",
        "# GPU package for CUDA-enabled GPU cards\n",
        "#!pip uninstall tensorflow-gpu\n",
        "\n",
        "# Nightly build with GPU support (unstable)\n",
        "#!pip uninstall tf-nightly-gpu\n",
        "\n",
        "###--------------keras\n",
        "#!pip show keras\n",
        "#!pip install keras\n",
        "\n",
        "###--------------opencv\n",
        "!pip install opencv-contrib-python\n",
        "\n"
      ],
      "execution_count": 0,
      "outputs": []
    },
    {
      "metadata": {
        "id": "WCF4My3uFQG3",
        "colab_type": "text"
      },
      "cell_type": "markdown",
      "source": [
        "**Confirmando instalações**\n"
      ]
    },
    {
      "metadata": {
        "id": "zFecCUwKFULt",
        "colab_type": "code",
        "outputId": "98a3a0da-6117-4922-af8b-4cef7d266a68",
        "colab": {
          "base_uri": "https://localhost:8080/",
          "height": 86
        }
      },
      "cell_type": "code",
      "source": [
        "import tensorflow as tf\n",
        "from tensorflow.keras import layers\n",
        "import cv2 as cv\n",
        "import numpy as np\n",
        "\n",
        "print(tf.VERSION)\n",
        "print(tf.keras.__version__)\n",
        "print(cv.__version__)\n",
        "print(np.__version__)\n",
        "\n",
        "#device_name = tf.test.gpu_device_name()\n",
        "#print (device_name)"
      ],
      "execution_count": 17,
      "outputs": [
        {
          "output_type": "stream",
          "text": [
            "1.13.0-dev20190226\n",
            "2.2.4-tf\n",
            "3.4.3\n",
            "1.14.6\n"
          ],
          "name": "stdout"
        }
      ]
    },
    {
      "metadata": {
        "id": "or_0ea3QDkJq",
        "colab_type": "code",
        "colab": {}
      },
      "cell_type": "code",
      "source": [
        ""
      ],
      "execution_count": 0,
      "outputs": []
    }
  ]
}
